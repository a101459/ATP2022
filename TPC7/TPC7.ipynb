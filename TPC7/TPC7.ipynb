{
 "cells": [
  {
   "cell_type": "code",
   "execution_count": null,
   "metadata": {},
   "outputs": [],
   "source": [
    "import alunos\n",
    "\n",
    "alunos.menu()\n",
    "Alunos = alunos.leAlunos(\"datasets/alunos.csv\")\n",
    "option = 1\n",
    "\n",
    "while option != 0:\n",
    "    option = int(input(\"Escolha uma das opções apresentadas!\"))\n",
    "    if option == 1:\n",
    "        print(Alunos)\n",
    "        alunos.menu()\n",
    "    elif option == 2:\n",
    "        lista1 = alunos.distribPorCurso(Alunos)\n",
    "        print (lista1)\n",
    "        alunos.menu()\n",
    "    elif option == 3:\n",
    "        lista2 = alunos.mediaAluno(Alunos)\n",
    "        print (lista2)\n",
    "        alunos.menu()\n",
    "    elif option == 4:\n",
    "        alunos.tabela(alunos.distribPorCurso(Alunos))\n",
    "        alunos.menu()\n",
    "    elif option == 5:\n",
    "        alunos.tabela(alunos.distEscalao(alunos.mediaAluno(Alunos)))\n",
    "        alunos.menu()\n",
    "    elif option == 6:\n",
    "        alunos.grafico(alunos.distribPorCurso(Alunos))\n",
    "        alunos.menu()\n",
    "    elif option == 7:\n",
    "        alunos.grafico(alunos.distEscalao(alunos.mediaAluno(Alunos)))\n",
    "        alunos.menu()\n",
    "    elif option == 0:\n",
    "        print (\"---------------------------------------\")\n"
   ]
  }
 ],
 "metadata": {
  "kernelspec": {
   "display_name": "Python 3.10.7 64-bit",
   "language": "python",
   "name": "python3"
  },
  "language_info": {
   "codemirror_mode": {
    "name": "ipython",
    "version": 3
   },
   "file_extension": ".py",
   "mimetype": "text/x-python",
   "name": "python",
   "nbconvert_exporter": "python",
   "pygments_lexer": "ipython3",
   "version": "3.10.7"
  },
  "orig_nbformat": 4,
  "vscode": {
   "interpreter": {
    "hash": "82426e9ecc58341f1ef8e214ae82fe6c690940504c0647c777d68997be611dce"
   }
  }
 },
 "nbformat": 4,
 "nbformat_minor": 2
}
