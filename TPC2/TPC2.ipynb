{
 "cells": [
  {
   "cell_type": "code",
   "execution_count": null,
   "metadata": {},
   "outputs": [],
   "source": [
    "#Jogo: Utilizador adivinha número em que o computador está a pensar\n",
    "import random\n",
    "\n",
    "computador = random.randrange (0, 100)\n",
    "Acertou = False\n",
    "palpites = 0\n",
    "while not Acertou:\n",
    "    utilizador = int(input(\"Tente adivinhar o número entre 0 e 100 em que estou a pensar!\"))\n",
    "    palpites = palpites + 1\n",
    "    if computador == utilizador:\n",
    "        Acertou = True\n",
    "        print (\"Acertou!\")\n",
    "    else:\n",
    "        if computador > utilizador:\n",
    "            print (\"O número que pensei é Maior!\")\n",
    "        else: \n",
    "            print (\"O número que pensei é Menor!\")\n",
    "print (\"Adivinhou o número em que pensei com {} tentativas.\".format(palpites))\n",
    "\n"
   ]
  }
 ],
 "metadata": {
  "kernelspec": {
   "display_name": "Python 3.10.7 64-bit",
   "language": "python",
   "name": "python3"
  },
  "language_info": {
   "codemirror_mode": {
    "name": "ipython",
    "version": 3
   },
   "file_extension": ".py",
   "mimetype": "text/x-python",
   "name": "python",
   "nbconvert_exporter": "python",
   "pygments_lexer": "ipython3",
   "version": "3.10.7"
  },
  "orig_nbformat": 4,
  "vscode": {
   "interpreter": {
    "hash": "82426e9ecc58341f1ef8e214ae82fe6c690940504c0647c777d68997be611dce"
   }
  }
 },
 "nbformat": 4,
 "nbformat_minor": 2
}
